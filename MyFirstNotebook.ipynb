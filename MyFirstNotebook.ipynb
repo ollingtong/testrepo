{
    "cells": [
        {
            "cell_type": "markdown",
            "metadata": {},
            "source": "# Descripiton\nMy First File in Watson Studio"
        },
        {
            "cell_type": "code",
            "execution_count": 1,
            "metadata": {},
            "outputs": [
                {
                    "data": {
                        "text/html": "<div>\n<style scoped>\n    .dataframe tbody tr th:only-of-type {\n        vertical-align: middle;\n    }\n\n    .dataframe tbody tr th {\n        vertical-align: top;\n    }\n\n    .dataframe thead th {\n        text-align: right;\n    }\n</style>\n<table border=\"1\" class=\"dataframe\">\n  <thead>\n    <tr style=\"text-align: right;\">\n      <th></th>\n      <th>Column1</th>\n      <th>Column2</th>\n      <th>Column3</th>\n      <th>Column4</th>\n      <th>Column5</th>\n      <th>Column6</th>\n      <th>Column7</th>\n      <th>Column8</th>\n      <th>Column9</th>\n      <th>Column10</th>\n    </tr>\n  </thead>\n  <tbody>\n    <tr>\n      <th>0</th>\n      <td>3</td>\n      <td>35</td>\n      <td>33</td>\n      <td>4</td>\n      <td>15</td>\n      <td>25</td>\n      <td>61</td>\n      <td>4</td>\n      <td>80</td>\n      <td>76</td>\n    </tr>\n    <tr>\n      <th>1</th>\n      <td>90</td>\n      <td>83</td>\n      <td>59</td>\n      <td>35</td>\n      <td>22</td>\n      <td>99</td>\n      <td>72</td>\n      <td>61</td>\n      <td>70</td>\n      <td>10</td>\n    </tr>\n    <tr>\n      <th>2</th>\n      <td>69</td>\n      <td>22</td>\n      <td>39</td>\n      <td>42</td>\n      <td>60</td>\n      <td>12</td>\n      <td>26</td>\n      <td>18</td>\n      <td>42</td>\n      <td>37</td>\n    </tr>\n    <tr>\n      <th>3</th>\n      <td>52</td>\n      <td>42</td>\n      <td>28</td>\n      <td>76</td>\n      <td>19</td>\n      <td>87</td>\n      <td>33</td>\n      <td>25</td>\n      <td>54</td>\n      <td>64</td>\n    </tr>\n    <tr>\n      <th>4</th>\n      <td>62</td>\n      <td>7</td>\n      <td>13</td>\n      <td>12</td>\n      <td>54</td>\n      <td>14</td>\n      <td>11</td>\n      <td>60</td>\n      <td>50</td>\n      <td>52</td>\n    </tr>\n  </tbody>\n</table>\n</div>",
                        "text/plain": "   Column1  Column2  Column3  Column4  Column5  Column6  Column7  Column8  \\\n0        3       35       33        4       15       25       61        4   \n1       90       83       59       35       22       99       72       61   \n2       69       22       39       42       60       12       26       18   \n3       52       42       28       76       19       87       33       25   \n4       62        7       13       12       54       14       11       60   \n\n   Column9  Column10  \n0       80        76  \n1       70        10  \n2       42        37  \n3       54        64  \n4       50        52  "
                    },
                    "execution_count": 1,
                    "metadata": {},
                    "output_type": "execute_result"
                }
            ],
            "source": "# The code was removed by Watson Studio for sharing."
        },
        {
            "cell_type": "code",
            "execution_count": null,
            "metadata": {},
            "outputs": [],
            "source": ""
        }
    ],
    "metadata": {
        "kernelspec": {
            "display_name": "Python 3.6",
            "language": "python",
            "name": "python3"
        },
        "language_info": {
            "codemirror_mode": {
                "name": "ipython",
                "version": 3
            },
            "file_extension": ".py",
            "mimetype": "text/x-python",
            "name": "python",
            "nbconvert_exporter": "python",
            "pygments_lexer": "ipython3",
            "version": "3.6.9"
        }
    },
    "nbformat": 4,
    "nbformat_minor": 1
}