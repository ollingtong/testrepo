{
    "cells": [
        {
            "metadata": {},
            "cell_type": "markdown",
            "source": "# Descripiton\nMy First File in Watson Studio"
        },
        {
            "metadata": {},
            "cell_type": "code",
            "source": "\nimport types\nimport pandas as pd\nfrom botocore.client import Config\nimport ibm_boto3\n\ndef __iter__(self): return 0\n\n# @hidden_cell\n# The following code accesses a file in your IBM Cloud Object Storage. It includes your credentials.\n# You might want to remove those credentials before you share the notebook.\nclient_462cbc50d3994301b55f77341e09267e = ibm_boto3.client(service_name='s3',\n    ibm_api_key_id='8XsyH1rHJCsp3vxaeypG9kKXmrvBSH8B2cGsUQMK4FqB',\n    ibm_auth_endpoint=\"https://iam.cloud.ibm.com/oidc/token\",\n    config=Config(signature_version='oauth'),\n    endpoint_url='https://s3-api.us-geo.objectstorage.service.networklayer.com')\n\nbody = client_462cbc50d3994301b55f77341e09267e.get_object(Bucket='default-donotdelete-pr-jtfzzrde8vkjgk',Key='testCSV.csv')['Body']\n# add missing __iter__ method, so pandas accepts body as file-like object\nif not hasattr(body, \"__iter__\"): body.__iter__ = types.MethodType( __iter__, body )\n\ndf_data_1 = pd.read_csv(body)\ndf_data_1.head()\n",
            "execution_count": 1,
            "outputs": [
                {
                    "output_type": "execute_result",
                    "execution_count": 1,
                    "data": {
                        "text/plain": "   Column1  Column2  Column3  Column4  Column5  Column6  Column7  Column8  \\\n0        3       35       33        4       15       25       61        4   \n1       90       83       59       35       22       99       72       61   \n2       69       22       39       42       60       12       26       18   \n3       52       42       28       76       19       87       33       25   \n4       62        7       13       12       54       14       11       60   \n\n   Column9  Column10  \n0       80        76  \n1       70        10  \n2       42        37  \n3       54        64  \n4       50        52  ",
                        "text/html": "<div>\n<style scoped>\n    .dataframe tbody tr th:only-of-type {\n        vertical-align: middle;\n    }\n\n    .dataframe tbody tr th {\n        vertical-align: top;\n    }\n\n    .dataframe thead th {\n        text-align: right;\n    }\n</style>\n<table border=\"1\" class=\"dataframe\">\n  <thead>\n    <tr style=\"text-align: right;\">\n      <th></th>\n      <th>Column1</th>\n      <th>Column2</th>\n      <th>Column3</th>\n      <th>Column4</th>\n      <th>Column5</th>\n      <th>Column6</th>\n      <th>Column7</th>\n      <th>Column8</th>\n      <th>Column9</th>\n      <th>Column10</th>\n    </tr>\n  </thead>\n  <tbody>\n    <tr>\n      <th>0</th>\n      <td>3</td>\n      <td>35</td>\n      <td>33</td>\n      <td>4</td>\n      <td>15</td>\n      <td>25</td>\n      <td>61</td>\n      <td>4</td>\n      <td>80</td>\n      <td>76</td>\n    </tr>\n    <tr>\n      <th>1</th>\n      <td>90</td>\n      <td>83</td>\n      <td>59</td>\n      <td>35</td>\n      <td>22</td>\n      <td>99</td>\n      <td>72</td>\n      <td>61</td>\n      <td>70</td>\n      <td>10</td>\n    </tr>\n    <tr>\n      <th>2</th>\n      <td>69</td>\n      <td>22</td>\n      <td>39</td>\n      <td>42</td>\n      <td>60</td>\n      <td>12</td>\n      <td>26</td>\n      <td>18</td>\n      <td>42</td>\n      <td>37</td>\n    </tr>\n    <tr>\n      <th>3</th>\n      <td>52</td>\n      <td>42</td>\n      <td>28</td>\n      <td>76</td>\n      <td>19</td>\n      <td>87</td>\n      <td>33</td>\n      <td>25</td>\n      <td>54</td>\n      <td>64</td>\n    </tr>\n    <tr>\n      <th>4</th>\n      <td>62</td>\n      <td>7</td>\n      <td>13</td>\n      <td>12</td>\n      <td>54</td>\n      <td>14</td>\n      <td>11</td>\n      <td>60</td>\n      <td>50</td>\n      <td>52</td>\n    </tr>\n  </tbody>\n</table>\n</div>"
                    },
                    "metadata": {}
                }
            ]
        },
        {
            "metadata": {},
            "cell_type": "code",
            "source": "",
            "execution_count": null,
            "outputs": []
        }
    ],
    "metadata": {
        "kernelspec": {
            "name": "python3",
            "display_name": "Python 3.6",
            "language": "python"
        },
        "language_info": {
            "name": "python",
            "version": "3.6.9",
            "mimetype": "text/x-python",
            "codemirror_mode": {
                "name": "ipython",
                "version": 3
            },
            "pygments_lexer": "ipython3",
            "nbconvert_exporter": "python",
            "file_extension": ".py"
        }
    },
    "nbformat": 4,
    "nbformat_minor": 1
}